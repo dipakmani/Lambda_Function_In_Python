{
 "cells": [
  {
   "cell_type": "markdown",
   "id": "ceeeb338",
   "metadata": {},
   "source": [
    "## Lambda Functions In Python"
   ]
  },
  {
   "cell_type": "markdown",
   "id": "7cbac854",
   "metadata": {},
   "source": [
    "In Python, a lambda function (also called an anonymous function) is a small, anonymous function that can be defined in a single line of code without a name. It is useful when we need a simple function that we don't want to define explicitly using the def keyword. The basic syntax for a lambda function in Python is:\n",
    "\n",
    "lambda arguments: expression\n",
    "Here, arguments refer to the input arguments for the function and expression is a single expression that gets evaluated and returned as the result of the function. The result of the expression is automatically returned by the lambda function, so there's no need to use the return statement.\n",
    "\n",
    "1) Lambda functions are defined using the keyword lambda, followed by the arguments (separated by commas) and a colon, and then the expression to be evaluated.\n",
    "\n",
    "2) Lambda functions can take any number of arguments, including optional arguments with default values.\n",
    "\n",
    "3) The expression in a lambda function can only be a single line of code, and it is evaluated and returned automatically.\n",
    "\n",
    "4) Lambda functions can be assigned to variables, passed as arguments to other functions, and even returned by functions.\n",
    "\n",
    "5) Lambda functions are often used in conjunction with higher-order functions like map(), filter(), and reduce() to perform simple operations on collections of data.\n",
    "\n",
    "6) Lambda functions are not always the most readable or maintainable way to write code, and should be used judiciously."
   ]
  },
  {
   "cell_type": "markdown",
   "id": "75e1cad9",
   "metadata": {},
   "source": [
    "1. A lambda function that takes in two arguments and returns their sum:"
   ]
  },
  {
   "cell_type": "code",
   "execution_count": 90,
   "id": "dc95de97",
   "metadata": {},
   "outputs": [
    {
     "name": "stdout",
     "output_type": "stream",
     "text": [
      "15\n"
     ]
    }
   ],
   "source": [
    "sum_lambda = lambda a, b: a + b\n",
    "print(sum_lambda(5, 10)) "
   ]
  },
  {
   "cell_type": "markdown",
   "id": "43471f1e",
   "metadata": {},
   "source": [
    "2. A lambda function that takes in a list and returns the length of the list:"
   ]
  },
  {
   "cell_type": "code",
   "execution_count": 91,
   "id": "a85b53cc",
   "metadata": {},
   "outputs": [
    {
     "name": "stdout",
     "output_type": "stream",
     "text": [
      "3\n"
     ]
    }
   ],
   "source": [
    "length_lambda = lambda lst: len(lst)\n",
    "fruits = ['apple', 'banana', 'orange']\n",
    "print(length_lambda(fruits))"
   ]
  },
  {
   "cell_type": "markdown",
   "id": "adc53549",
   "metadata": {},
   "source": [
    "3. A lambda function that takes in a string and returns the uppercase version of the string:"
   ]
  },
  {
   "cell_type": "code",
   "execution_count": 92,
   "id": "03849be2",
   "metadata": {},
   "outputs": [
    {
     "name": "stdout",
     "output_type": "stream",
     "text": [
      "HELLO WORLD\n"
     ]
    }
   ],
   "source": [
    "uppercase_lambda = lambda s: s.upper()\n",
    "print(uppercase_lambda('hello world'))"
   ]
  },
  {
   "cell_type": "markdown",
   "id": "12f1220a",
   "metadata": {},
   "source": [
    "4. A lambda function that takes in a dictionary and returns the keys of the dictionary:"
   ]
  },
  {
   "cell_type": "code",
   "execution_count": 93,
   "id": "232e2a0c",
   "metadata": {},
   "outputs": [
    {
     "name": "stdout",
     "output_type": "stream",
     "text": [
      "['a', 'b', 'c']\n"
     ]
    }
   ],
   "source": [
    "keys_lambda = lambda d: list(d.keys())\n",
    "my_dict = {'a': 1, 'b': 2, 'c': 3}\n",
    "print(keys_lambda(my_dict)) "
   ]
  },
  {
   "cell_type": "markdown",
   "id": "445e4f71",
   "metadata": {},
   "source": [
    "5. A lambda function that takes in a number and returns whether the number is even or odd:"
   ]
  },
  {
   "cell_type": "code",
   "execution_count": 94,
   "id": "a4ffef5a",
   "metadata": {},
   "outputs": [
    {
     "name": "stdout",
     "output_type": "stream",
     "text": [
      "Odd\n"
     ]
    }
   ],
   "source": [
    "even_odd_lambda = lambda num: 'Even' if num % 2 == 0 else 'Odd'\n",
    "print(even_odd_lambda(7))"
   ]
  },
  {
   "cell_type": "code",
   "execution_count": 57,
   "id": "49702aa1",
   "metadata": {},
   "outputs": [],
   "source": [
    "multiply = lambda x,y: x*y"
   ]
  },
  {
   "cell_type": "code",
   "execution_count": 58,
   "id": "ac4e7055",
   "metadata": {},
   "outputs": [
    {
     "data": {
      "text/plain": [
       "132"
      ]
     },
     "execution_count": 58,
     "metadata": {},
     "output_type": "execute_result"
    }
   ],
   "source": [
    "multiply(11,12)"
   ]
  },
  {
   "cell_type": "code",
   "execution_count": 59,
   "id": "5d4efc45",
   "metadata": {},
   "outputs": [],
   "source": [
    "power = lambda x,y: x**y"
   ]
  },
  {
   "cell_type": "code",
   "execution_count": 60,
   "id": "28674921",
   "metadata": {},
   "outputs": [
    {
     "data": {
      "text/plain": [
       "8"
      ]
     },
     "execution_count": 60,
     "metadata": {},
     "output_type": "execute_result"
    }
   ],
   "source": [
    "power(2,3)"
   ]
  },
  {
   "cell_type": "code",
   "execution_count": 4,
   "id": "3933248b",
   "metadata": {},
   "outputs": [],
   "source": [
    "x = lambda x:x**2"
   ]
  },
  {
   "cell_type": "code",
   "execution_count": 5,
   "id": "7e39d7f2",
   "metadata": {},
   "outputs": [
    {
     "data": {
      "text/plain": [
       "81"
      ]
     },
     "execution_count": 5,
     "metadata": {},
     "output_type": "execute_result"
    }
   ],
   "source": [
    "x(9)"
   ]
  },
  {
   "cell_type": "code",
   "execution_count": 6,
   "id": "ffdb48ac",
   "metadata": {},
   "outputs": [],
   "source": [
    "a = lambda x,y:x+y"
   ]
  },
  {
   "cell_type": "code",
   "execution_count": 7,
   "id": "a16c0bb8",
   "metadata": {},
   "outputs": [
    {
     "data": {
      "text/plain": [
       "9"
      ]
     },
     "execution_count": 7,
     "metadata": {},
     "output_type": "execute_result"
    }
   ],
   "source": [
    "a(4,5)"
   ]
  },
  {
   "cell_type": "code",
   "execution_count": null,
   "id": "8b079840",
   "metadata": {},
   "outputs": [],
   "source": [
    "# Differenece\n",
    "1. Lambda has no return value\n",
    "2. One line\n",
    "3. Not used for code reusability\n",
    "4. No name in lambda like def power"
   ]
  },
  {
   "cell_type": "code",
   "execution_count": 8,
   "id": "94cb11e5",
   "metadata": {},
   "outputs": [
    {
     "data": {
      "text/plain": [
       "function"
      ]
     },
     "execution_count": 8,
     "metadata": {},
     "output_type": "execute_result"
    }
   ],
   "source": [
    "type(a)"
   ]
  },
  {
   "cell_type": "code",
   "execution_count": null,
   "id": "f5f3418c",
   "metadata": {},
   "outputs": [],
   "source": [
    "# why lambda function ?\n",
    "# Along with Higher order functions"
   ]
  },
  {
   "cell_type": "code",
   "execution_count": 9,
   "id": "21b8d4fd",
   "metadata": {},
   "outputs": [
    {
     "data": {
      "text/plain": [
       "True"
      ]
     },
     "execution_count": 9,
     "metadata": {},
     "output_type": "execute_result"
    }
   ],
   "source": [
    "b = lambda x:x[0]=='a'\n",
    "b('apple')"
   ]
  },
  {
   "cell_type": "code",
   "execution_count": 10,
   "id": "c4ac6555",
   "metadata": {},
   "outputs": [
    {
     "data": {
      "text/plain": [
       "False"
      ]
     },
     "execution_count": 10,
     "metadata": {},
     "output_type": "execute_result"
    }
   ],
   "source": [
    "b('banana')"
   ]
  },
  {
   "cell_type": "code",
   "execution_count": 11,
   "id": "5defd680",
   "metadata": {},
   "outputs": [
    {
     "data": {
      "text/plain": [
       "'Odd'"
      ]
     },
     "execution_count": 11,
     "metadata": {},
     "output_type": "execute_result"
    }
   ],
   "source": [
    "# Examine Even Or Odd\n",
    "# If Else\n",
    "\n",
    "b = lambda x:\"Even\" if x%2==0 else \"Odd\"\n",
    "b(3)"
   ]
  },
  {
   "cell_type": "code",
   "execution_count": 12,
   "id": "866b3a65",
   "metadata": {},
   "outputs": [
    {
     "data": {
      "text/plain": [
       "'Even'"
      ]
     },
     "execution_count": 12,
     "metadata": {},
     "output_type": "execute_result"
    }
   ],
   "source": [
    "b(2)"
   ]
  },
  {
   "cell_type": "markdown",
   "id": "04ceb1c6",
   "metadata": {},
   "source": [
    "### Higher order function"
   ]
  },
  {
   "cell_type": "code",
   "execution_count": 15,
   "id": "66861dcd",
   "metadata": {},
   "outputs": [
    {
     "name": "stdout",
     "output_type": "stream",
     "text": [
      "176\n",
      "129\n",
      "144\n"
     ]
    }
   ],
   "source": [
    "def return_sum(func,L):\n",
    "    result=0\n",
    "    for i in L:\n",
    "        if func(i):\n",
    "            result = result + i\n",
    "    return result\n",
    "\n",
    "L = [11,14,21,23,56,78,45,29,28]\n",
    "\n",
    "x = lambda x:x%2==0\n",
    "y = lambda x:x%2!=0\n",
    "z = lambda x:x%3==0\n",
    "\n",
    "print(return_sum(x,L))\n",
    "print(return_sum(y,L))\n",
    "print(return_sum(z,L))"
   ]
  },
  {
   "cell_type": "markdown",
   "id": "340d2823",
   "metadata": {},
   "source": [
    "### Map Function"
   ]
  },
  {
   "cell_type": "markdown",
   "id": "15ddad58",
   "metadata": {},
   "source": [
    "The map() function in Python is a built-in higher-order function that takes a function and an iterable as arguments, and returns a new iterable with the function applied to each element of the original iterable. Here are some examples of how to use the map() function in Python:"
   ]
  },
  {
   "cell_type": "code",
   "execution_count": 95,
   "id": "19f69d1d",
   "metadata": {},
   "outputs": [
    {
     "name": "stdout",
     "output_type": "stream",
     "text": [
      "[1, 4, 9, 16, 25]\n"
     ]
    }
   ],
   "source": [
    "numbers = [1, 2, 3, 4, 5]\n",
    "squares = map(lambda x: x ** 2, numbers)\n",
    "\n",
    "print(list(squares))"
   ]
  },
  {
   "cell_type": "code",
   "execution_count": 17,
   "id": "0164b27f",
   "metadata": {},
   "outputs": [
    {
     "data": {
      "text/plain": [
       "[1, 4, 9, 16, 25, 36, 49]"
      ]
     },
     "execution_count": 17,
     "metadata": {},
     "output_type": "execute_result"
    }
   ],
   "source": [
    "# Map\n",
    "L = [1,2,3,4,5,6,7]\n",
    "list(map(lambda x:x**2,L))"
   ]
  },
  {
   "cell_type": "code",
   "execution_count": 19,
   "id": "6a54b837",
   "metadata": {},
   "outputs": [
    {
     "data": {
      "text/plain": [
       "[False, True, False, True, False, True, False]"
      ]
     },
     "execution_count": 19,
     "metadata": {},
     "output_type": "execute_result"
    }
   ],
   "source": [
    "list(map(lambda x : x%2 == 0,L))"
   ]
  },
  {
   "cell_type": "code",
   "execution_count": 25,
   "id": "fe133b7f",
   "metadata": {},
   "outputs": [],
   "source": [
    "students = [\n",
    "{\n",
    "    \"name\":\"Akash pawar\",\n",
    "    \"father name\":\"Rama pawar\",\n",
    "    \"Address\":\"123 Hill Street\"\n",
    "},{\n",
    "    \"name\":\"Prem Rajput\",\n",
    "    \"father name\":\"Dilip Rajput\",\n",
    "    \"Address\":\"456 Hill Street\"\n",
    "},{\n",
    "    \"name\":\"Sanket Bendre\",\n",
    "    \"father name\":\"Vilas Bendre\",\n",
    "    \"Address\":\"789 Hill Street\"\n",
    "}\n",
    "]"
   ]
  },
  {
   "cell_type": "code",
   "execution_count": 26,
   "id": "7d098149",
   "metadata": {},
   "outputs": [
    {
     "data": {
      "text/plain": [
       "['Akash pawar', 'Prem Rajput', 'Sanket Bendre']"
      ]
     },
     "execution_count": 26,
     "metadata": {},
     "output_type": "execute_result"
    }
   ],
   "source": [
    "list(map(lambda student:student['name'],students))"
   ]
  },
  {
   "cell_type": "code",
   "execution_count": 27,
   "id": "b6a63074",
   "metadata": {},
   "outputs": [
    {
     "data": {
      "text/plain": [
       "['123 Hill Street', '456 Hill Street', '789 Hill Street']"
      ]
     },
     "execution_count": 27,
     "metadata": {},
     "output_type": "execute_result"
    }
   ],
   "source": [
    "list(map(lambda student:student['Address'],students))"
   ]
  },
  {
   "cell_type": "code",
   "execution_count": 64,
   "id": "607151b2",
   "metadata": {},
   "outputs": [],
   "source": [
    "strings = [\"My\",\"friends\"]"
   ]
  },
  {
   "cell_type": "code",
   "execution_count": 69,
   "id": "4d418a89",
   "metadata": {},
   "outputs": [],
   "source": [
    "cap = list(map(lambda x: str.upper(x),strings))"
   ]
  },
  {
   "cell_type": "code",
   "execution_count": 71,
   "id": "4a78cc9d",
   "metadata": {},
   "outputs": [
    {
     "data": {
      "text/plain": [
       "['MY', 'FRIENDS']"
      ]
     },
     "execution_count": 71,
     "metadata": {},
     "output_type": "execute_result"
    }
   ],
   "source": [
    "cap"
   ]
  },
  {
   "cell_type": "markdown",
   "id": "e1a8fde7",
   "metadata": {},
   "source": [
    "### Filter Function"
   ]
  },
  {
   "cell_type": "markdown",
   "id": "f24f02ed",
   "metadata": {},
   "source": [
    "The filter() function in Python is a built-in higher-order function that takes a function and an iterable as arguments, and returns a new iterable with only the elements from the original iterable for which the function returns True. Here are some examples of how to use the filter() function in Python."
   ]
  },
  {
   "cell_type": "code",
   "execution_count": 96,
   "id": "bb0a5fff",
   "metadata": {},
   "outputs": [
    {
     "name": "stdout",
     "output_type": "stream",
     "text": [
      "[2, 4]\n"
     ]
    }
   ],
   "source": [
    "numbers = [1, 2, 3, 4, 5]\n",
    "evens = filter(lambda x: x % 2 == 0, numbers)\n",
    "\n",
    "print(list(evens)) "
   ]
  },
  {
   "cell_type": "code",
   "execution_count": 28,
   "id": "f8f03f67",
   "metadata": {},
   "outputs": [],
   "source": [
    "# Filter\n",
    "L = [1,2,3,4,5,6,7]"
   ]
  },
  {
   "cell_type": "code",
   "execution_count": 29,
   "id": "6d5581a4",
   "metadata": {},
   "outputs": [
    {
     "data": {
      "text/plain": [
       "[5, 6, 7]"
      ]
     },
     "execution_count": 29,
     "metadata": {},
     "output_type": "execute_result"
    }
   ],
   "source": [
    "list(filter(lambda x:x>4,L))"
   ]
  },
  {
   "cell_type": "code",
   "execution_count": 97,
   "id": "f7bbd404",
   "metadata": {},
   "outputs": [
    {
     "name": "stdout",
     "output_type": "stream",
     "text": [
      "['banana', 'orange']\n"
     ]
    }
   ],
   "source": [
    "fruits = ['apple', 'banana', 'orange', 'kiwi']\n",
    "long_fruits = filter(lambda x: len(x) > 5, fruits)\n",
    "\n",
    "print(list(long_fruits)) "
   ]
  },
  {
   "cell_type": "code",
   "execution_count": 98,
   "id": "00f4cdfb",
   "metadata": {},
   "outputs": [
    {
     "name": "stdout",
     "output_type": "stream",
     "text": [
      "[('Charlie', 35), ('Dave', 40)]\n"
     ]
    }
   ],
   "source": [
    "people = [('Alice', 25), ('Bob', 30), ('Charlie', 35), ('Dave', 40)]\n",
    "seniors = filter(lambda x: x[1] >= 35, people)\n",
    "\n",
    "print(list(seniors))"
   ]
  },
  {
   "cell_type": "code",
   "execution_count": 99,
   "id": "f1a244cd",
   "metadata": {},
   "outputs": [
    {
     "name": "stdout",
     "output_type": "stream",
     "text": [
      "{'Alice': 80, 'Charlie': 90}\n"
     ]
    }
   ],
   "source": [
    "scores = {'Alice': 80, 'Bob': 70, 'Charlie': 90, 'Dave': 75}\n",
    "high_scores = filter(lambda x: x[1] >= 80, scores.items())\n",
    "\n",
    "print(dict(high_scores)) "
   ]
  },
  {
   "cell_type": "code",
   "execution_count": 31,
   "id": "9543a7e6",
   "metadata": {},
   "outputs": [
    {
     "data": {
      "text/plain": [
       "['Apple', 'Orange']"
      ]
     },
     "execution_count": 31,
     "metadata": {},
     "output_type": "execute_result"
    }
   ],
   "source": [
    "fruits = ['Apple','Orange','Mango','Guava']\n",
    "list(filter(lambda fruit: 'e' in fruit, fruits))"
   ]
  },
  {
   "cell_type": "markdown",
   "id": "a7ce06ee",
   "metadata": {},
   "source": [
    "### Reduce Function"
   ]
  },
  {
   "cell_type": "code",
   "execution_count": 32,
   "id": "f89a6db6",
   "metadata": {},
   "outputs": [],
   "source": [
    "import functools"
   ]
  },
  {
   "cell_type": "code",
   "execution_count": 33,
   "id": "c91f42a9",
   "metadata": {},
   "outputs": [
    {
     "data": {
      "text/plain": [
       "[1, 2, 3, 4, 5, 6, 7]"
      ]
     },
     "execution_count": 33,
     "metadata": {},
     "output_type": "execute_result"
    }
   ],
   "source": [
    "L = [1,2,3,4,5,6,7]\n",
    "L"
   ]
  },
  {
   "cell_type": "code",
   "execution_count": 34,
   "id": "e954dcc4",
   "metadata": {},
   "outputs": [
    {
     "data": {
      "text/plain": [
       "28"
      ]
     },
     "execution_count": 34,
     "metadata": {},
     "output_type": "execute_result"
    }
   ],
   "source": [
    "# Sum list\n",
    "functools.reduce(lambda x,y:x+y,L)"
   ]
  },
  {
   "cell_type": "code",
   "execution_count": 35,
   "id": "9c1c98c8",
   "metadata": {},
   "outputs": [
    {
     "data": {
      "text/plain": [
       "[12, 34, 56, 11, 21, 58]"
      ]
     },
     "execution_count": 35,
     "metadata": {},
     "output_type": "execute_result"
    }
   ],
   "source": [
    "L1 = [12,34,56,11,21,58]\n",
    "L1"
   ]
  },
  {
   "cell_type": "code",
   "execution_count": 36,
   "id": "cd4571bd",
   "metadata": {},
   "outputs": [
    {
     "data": {
      "text/plain": [
       "58"
      ]
     },
     "execution_count": 36,
     "metadata": {},
     "output_type": "execute_result"
    }
   ],
   "source": [
    "# Max value\n",
    "functools.reduce(lambda x,y:x if x>y else y, L1)"
   ]
  },
  {
   "cell_type": "code",
   "execution_count": 37,
   "id": "624bb607",
   "metadata": {},
   "outputs": [
    {
     "data": {
      "text/plain": [
       "11"
      ]
     },
     "execution_count": 37,
     "metadata": {},
     "output_type": "execute_result"
    }
   ],
   "source": [
    "# Min value\n",
    "functools.reduce(lambda x,y:x if x<y else y, L1)"
   ]
  },
  {
   "cell_type": "markdown",
   "id": "fee70212",
   "metadata": {},
   "source": [
    "### Lambda on dictionaries"
   ]
  },
  {
   "cell_type": "code",
   "execution_count": 77,
   "id": "6f44b772",
   "metadata": {},
   "outputs": [],
   "source": [
    "sales = [{'country':\"India\",'sale':150.5}, {'country':\"Japan\",'sale':200.2},{'country':\"Europe\",'sale':300.12}]"
   ]
  },
  {
   "cell_type": "code",
   "execution_count": 78,
   "id": "02b1b6ad",
   "metadata": {},
   "outputs": [],
   "source": [
    "country_key = map(lambda x: x['country'],sales)"
   ]
  },
  {
   "cell_type": "code",
   "execution_count": 79,
   "id": "58f4fee2",
   "metadata": {},
   "outputs": [
    {
     "data": {
      "text/plain": [
       "['India', 'Japan', 'Europe']"
      ]
     },
     "execution_count": 79,
     "metadata": {},
     "output_type": "execute_result"
    }
   ],
   "source": [
    "list(country_key)"
   ]
  },
  {
   "cell_type": "code",
   "execution_count": 80,
   "id": "286136c1",
   "metadata": {},
   "outputs": [],
   "source": [
    "country_values = map(lambda x: x['sale'],sales)"
   ]
  },
  {
   "cell_type": "code",
   "execution_count": 81,
   "id": "2c1b3764",
   "metadata": {},
   "outputs": [
    {
     "data": {
      "text/plain": [
       "[150.5, 200.2, 300.12]"
      ]
     },
     "execution_count": 81,
     "metadata": {},
     "output_type": "execute_result"
    }
   ],
   "source": [
    "list(country_values)"
   ]
  },
  {
   "cell_type": "code",
   "execution_count": null,
   "id": "4f4b4712",
   "metadata": {},
   "outputs": [],
   "source": [
    "# Using filter on dictionaries along with lambda"
   ]
  },
  {
   "cell_type": "code",
   "execution_count": 83,
   "id": "f1a2938b",
   "metadata": {},
   "outputs": [],
   "source": [
    "India_sales =filter(lambda x : x['country'] == \"India\",sales)"
   ]
  },
  {
   "cell_type": "code",
   "execution_count": 84,
   "id": "5e267f06",
   "metadata": {},
   "outputs": [
    {
     "data": {
      "text/plain": [
       "[{'country': 'India', 'sale': 150.5}]"
      ]
     },
     "execution_count": 84,
     "metadata": {},
     "output_type": "execute_result"
    }
   ],
   "source": [
    "list(India_sales)"
   ]
  },
  {
   "cell_type": "code",
   "execution_count": 85,
   "id": "5382af17",
   "metadata": {},
   "outputs": [],
   "source": [
    "high_sales = filter(lambda x : x['sale'] > 200, sales)"
   ]
  },
  {
   "cell_type": "code",
   "execution_count": 86,
   "id": "1df39555",
   "metadata": {},
   "outputs": [
    {
     "data": {
      "text/plain": [
       "[{'country': 'Japan', 'sale': 200.2}, {'country': 'Europe', 'sale': 300.12}]"
      ]
     },
     "execution_count": 86,
     "metadata": {},
     "output_type": "execute_result"
    }
   ],
   "source": [
    "list(high_sales)"
   ]
  },
  {
   "cell_type": "markdown",
   "id": "fc15cdf1",
   "metadata": {},
   "source": [
    "### Processing multiple list with map & lambda function"
   ]
  },
  {
   "cell_type": "code",
   "execution_count": 87,
   "id": "6035f385",
   "metadata": {},
   "outputs": [],
   "source": [
    "list1 = [20,24,23,64,54,59]\n",
    "list2 = [12,34,56,62,23,45]"
   ]
  },
  {
   "cell_type": "code",
   "execution_count": 88,
   "id": "0a17e259",
   "metadata": {},
   "outputs": [],
   "source": [
    "list_addition = map(lambda x,y: x+y, list1, list2)"
   ]
  },
  {
   "cell_type": "code",
   "execution_count": 89,
   "id": "a12afcfa",
   "metadata": {},
   "outputs": [
    {
     "data": {
      "text/plain": [
       "[32, 58, 79, 126, 77, 104]"
      ]
     },
     "execution_count": 89,
     "metadata": {},
     "output_type": "execute_result"
    }
   ],
   "source": [
    "list(list_addition)"
   ]
  },
  {
   "cell_type": "markdown",
   "id": "755ad8ff",
   "metadata": {},
   "source": [
    "### List Comprehension"
   ]
  },
  {
   "cell_type": "code",
   "execution_count": 38,
   "id": "ed684a40",
   "metadata": {},
   "outputs": [],
   "source": [
    "# List Comprehension\n",
    "L = [1,2,3,4,5,6,7]"
   ]
  },
  {
   "cell_type": "code",
   "execution_count": 42,
   "id": "e1308c7a",
   "metadata": {},
   "outputs": [
    {
     "data": {
      "text/plain": [
       "[2, 4, 6, 8, 10, 12, 14]"
      ]
     },
     "execution_count": 42,
     "metadata": {},
     "output_type": "execute_result"
    }
   ],
   "source": [
    "L1 = [item * 2 for item in L]\n",
    "L1"
   ]
  },
  {
   "cell_type": "code",
   "execution_count": 41,
   "id": "d62f7997",
   "metadata": {},
   "outputs": [
    {
     "data": {
      "text/plain": [
       "[0, 1, 4, 9, 16, 25, 36, 49, 64, 81]"
      ]
     },
     "execution_count": 41,
     "metadata": {},
     "output_type": "execute_result"
    }
   ],
   "source": [
    "L2 = [i**2 for i in range(10)]\n",
    "L2"
   ]
  },
  {
   "cell_type": "code",
   "execution_count": 44,
   "id": "8a19c302",
   "metadata": {},
   "outputs": [
    {
     "data": {
      "text/plain": [
       "[1, 9, 25, 49, 81]"
      ]
     },
     "execution_count": 44,
     "metadata": {},
     "output_type": "execute_result"
    }
   ],
   "source": [
    "L3 = [i**2 for i in range(10) if i%2!=0]\n",
    "L3"
   ]
  },
  {
   "cell_type": "code",
   "execution_count": 45,
   "id": "74527dc3",
   "metadata": {},
   "outputs": [
    {
     "data": {
      "text/plain": [
       "['Apple', 'Orange', 'Mango', 'Guava']"
      ]
     },
     "execution_count": 45,
     "metadata": {},
     "output_type": "execute_result"
    }
   ],
   "source": [
    "fruits"
   ]
  },
  {
   "cell_type": "code",
   "execution_count": 47,
   "id": "5da86703",
   "metadata": {},
   "outputs": [
    {
     "data": {
      "text/plain": [
       "['Orange']"
      ]
     },
     "execution_count": 47,
     "metadata": {},
     "output_type": "execute_result"
    }
   ],
   "source": [
    "L4 = [fruit for fruit in fruits if fruit[0]=='O']\n",
    "L4"
   ]
  },
  {
   "cell_type": "markdown",
   "id": "d3f46321",
   "metadata": {},
   "source": [
    "### Dictionary Comprehension"
   ]
  },
  {
   "cell_type": "code",
   "execution_count": 49,
   "id": "9326f1a1",
   "metadata": {},
   "outputs": [],
   "source": [
    "D = {\"Name\":\"Akshay\",\"Gender\":\"Male\",\"Age\":30}"
   ]
  },
  {
   "cell_type": "code",
   "execution_count": 50,
   "id": "df726e89",
   "metadata": {},
   "outputs": [
    {
     "data": {
      "text/plain": [
       "dict_items([('Name', 'Akshay'), ('Gender', 'Male'), ('Age', 30)])"
      ]
     },
     "execution_count": 50,
     "metadata": {},
     "output_type": "execute_result"
    }
   ],
   "source": [
    "D.items()"
   ]
  },
  {
   "cell_type": "code",
   "execution_count": 52,
   "id": "b87a3d72",
   "metadata": {},
   "outputs": [
    {
     "data": {
      "text/plain": [
       "{'Name': 'Akshay', 'Gender': 'Male'}"
      ]
     },
     "execution_count": 52,
     "metadata": {},
     "output_type": "execute_result"
    }
   ],
   "source": [
    "D1 = {key:value for key,value in D.items() if len(key) > 3}\n",
    "D1"
   ]
  },
  {
   "cell_type": "code",
   "execution_count": 54,
   "id": "9562bebb",
   "metadata": {},
   "outputs": [
    {
     "data": {
      "text/plain": [
       "{1: 1, 2: 4, 3: 9, 4: 16, 5: 25, 6: 36, 7: 49}"
      ]
     },
     "execution_count": 54,
     "metadata": {},
     "output_type": "execute_result"
    }
   ],
   "source": [
    "D2 = {item:item**2 for item in L}\n",
    "D2"
   ]
  },
  {
   "cell_type": "code",
   "execution_count": 56,
   "id": "2cc7b04a",
   "metadata": {},
   "outputs": [
    {
     "data": {
      "text/plain": [
       "{2: 4, 4: 16, 6: 36}"
      ]
     },
     "execution_count": 56,
     "metadata": {},
     "output_type": "execute_result"
    }
   ],
   "source": [
    "D2 = {item:item**2 for item in L if item%2==0}\n",
    "D2"
   ]
  },
  {
   "cell_type": "markdown",
   "id": "31e512fa",
   "metadata": {},
   "source": [
    "## Lambda Function In Python"
   ]
  },
  {
   "cell_type": "code",
   "execution_count": 21,
   "id": "c6234901",
   "metadata": {},
   "outputs": [
    {
     "data": {
      "text/plain": [
       "<function __main__.<lambda>(x, y)>"
      ]
     },
     "execution_count": 21,
     "metadata": {},
     "output_type": "execute_result"
    }
   ],
   "source": [
    "f=lambda x,y:x+y\n",
    "f"
   ]
  },
  {
   "cell_type": "code",
   "execution_count": 22,
   "id": "7b4f41e6",
   "metadata": {},
   "outputs": [
    {
     "data": {
      "text/plain": [
       "11"
      ]
     },
     "execution_count": 22,
     "metadata": {},
     "output_type": "execute_result"
    }
   ],
   "source": [
    "f(5,6)"
   ]
  },
  {
   "cell_type": "code",
   "execution_count": 23,
   "id": "6f095ba6",
   "metadata": {},
   "outputs": [
    {
     "data": {
      "text/plain": [
       "12"
      ]
     },
     "execution_count": 23,
     "metadata": {},
     "output_type": "execute_result"
    }
   ],
   "source": [
    "## simnples examples\n",
    "multiply=lambda x,y:x*y\n",
    "multiply(3,4)"
   ]
  },
  {
   "cell_type": "code",
   "execution_count": 24,
   "id": "f57735b6",
   "metadata": {},
   "outputs": [
    {
     "data": {
      "text/plain": [
       "10"
      ]
     },
     "execution_count": 24,
     "metadata": {},
     "output_type": "execute_result"
    }
   ],
   "source": [
    "## Return the length of a string\n",
    "string_length=lambda s:len(s)\n",
    "string_length(\"Dipak Mani\")"
   ]
  },
  {
   "cell_type": "code",
   "execution_count": 25,
   "id": "55c1f679",
   "metadata": {},
   "outputs": [
    {
     "name": "stdout",
     "output_type": "stream",
     "text": [
      "[1, 4, 9, 16, 25, 36]\n"
     ]
    }
   ],
   "source": [
    "## Convert a list of integers to their corresponding square values:\n",
    "numbers=[1,2,3,4,5,6]\n",
    "squares=list(map(lambda x:x**2,numbers))\n",
    "print(squares)"
   ]
  },
  {
   "cell_type": "code",
   "execution_count": 26,
   "id": "b1805d3f",
   "metadata": {},
   "outputs": [
    {
     "data": {
      "text/plain": [
       "[2, 4, 6]"
      ]
     },
     "execution_count": 26,
     "metadata": {},
     "output_type": "execute_result"
    }
   ],
   "source": [
    "## Filter out even numbers from a list:\n",
    "\n",
    "numbers=[1,2,3,4,5,6]\n",
    "list(filter(lambda x:x%2==0,numbers))"
   ]
  },
  {
   "cell_type": "code",
   "execution_count": 27,
   "id": "1f8fd447",
   "metadata": {},
   "outputs": [
    {
     "data": {
      "text/plain": [
       "False"
      ]
     },
     "execution_count": 27,
     "metadata": {},
     "output_type": "execute_result"
    }
   ],
   "source": [
    "f=lambda x:x%2==0\n",
    "f(3)"
   ]
  },
  {
   "cell_type": "code",
   "execution_count": 28,
   "id": "bfe04dc3",
   "metadata": {},
   "outputs": [],
   "source": [
    "## Sort a list of strings based on their alphabetical characters and  length:\n",
    "fruits = ['apple', 'banana', 'cherry', 'date', 'elderberry']"
   ]
  },
  {
   "cell_type": "code",
   "execution_count": 29,
   "id": "17885ef7",
   "metadata": {},
   "outputs": [
    {
     "data": {
      "text/plain": [
       "['date', 'apple', 'banana', 'cherry', 'elderberry']"
      ]
     },
     "execution_count": 29,
     "metadata": {},
     "output_type": "execute_result"
    }
   ],
   "source": [
    "sorted(fruits,key=lambda x:len(x))"
   ]
  },
  {
   "cell_type": "code",
   "execution_count": 30,
   "id": "24ca3656",
   "metadata": {},
   "outputs": [],
   "source": [
    "## complex examples\n",
    "## Sorting a list of dictionaries based on a specific key"
   ]
  },
  {
   "cell_type": "code",
   "execution_count": 31,
   "id": "8058cc48",
   "metadata": {},
   "outputs": [],
   "source": [
    "people = [\n",
    "    {'name': 'Alice', 'age': 25, 'occupation': 'Engineer'},\n",
    "    {'name': 'Bob', 'age': 30, 'occupation': 'Manager'},\n",
    "    {'name': 'Charlie', 'age': 22, 'occupation': 'Intern'},\n",
    "    {'name': 'Dave', 'age': 27, 'occupation': 'Designer'},\n",
    "]"
   ]
  },
  {
   "cell_type": "code",
   "execution_count": 32,
   "id": "68d2e207",
   "metadata": {},
   "outputs": [
    {
     "data": {
      "text/plain": [
       "[{'name': 'Charlie', 'age': 22, 'occupation': 'Intern'},\n",
       " {'name': 'Alice', 'age': 25, 'occupation': 'Engineer'},\n",
       " {'name': 'Dave', 'age': 27, 'occupation': 'Designer'},\n",
       " {'name': 'Bob', 'age': 30, 'occupation': 'Manager'}]"
      ]
     },
     "execution_count": 32,
     "metadata": {},
     "output_type": "execute_result"
    }
   ],
   "source": [
    "sorted(people,key=lambda x:(x['age']))"
   ]
  },
  {
   "cell_type": "code",
   "execution_count": 33,
   "id": "c94b5342",
   "metadata": {},
   "outputs": [
    {
     "data": {
      "text/plain": [
       "'b'"
      ]
     },
     "execution_count": 33,
     "metadata": {},
     "output_type": "execute_result"
    }
   ],
   "source": [
    "## Finding the maximum value in a dictionary\n",
    "data = {'a': 10, 'b': 20, 'c': 5, 'd': 15}\n",
    "max(data,key=lambda x:data[x])"
   ]
  },
  {
   "cell_type": "code",
   "execution_count": 34,
   "id": "2b5b2500",
   "metadata": {},
   "outputs": [],
   "source": [
    "## Grouping a list of strings based on their first letter"
   ]
  },
  {
   "cell_type": "code",
   "execution_count": 35,
   "id": "7ce4612f",
   "metadata": {},
   "outputs": [
    {
     "name": "stdout",
     "output_type": "stream",
     "text": [
      "a ['apple']\n",
      "b ['banana']\n",
      "c ['cherry']\n",
      "d ['date']\n",
      "e ['elderberry']\n",
      "f ['fig']\n"
     ]
    }
   ],
   "source": [
    "from itertools import groupby\n",
    "\n",
    "words = ['apple', 'banana', 'cherry', 'date', 'elderberry', 'fig']\n",
    "\n",
    "groups = groupby(sorted(words), key=lambda x: x[0])\n",
    "\n",
    "for key, group in groups:\n",
    "    print(key, list(group))"
   ]
  },
  {
   "cell_type": "markdown",
   "id": "ed8516ce",
   "metadata": {},
   "source": [
    "1. A lambda function is an anonymous function, meaning it has no name."
   ]
  },
  {
   "cell_type": "code",
   "execution_count": 11,
   "id": "f5c1952f",
   "metadata": {},
   "outputs": [
    {
     "name": "stdout",
     "output_type": "stream",
     "text": [
      "9\n"
     ]
    }
   ],
   "source": [
    "square = lambda x: x ** 2\n",
    "print(square(3))"
   ]
  },
  {
   "cell_type": "markdown",
   "id": "fda87f09",
   "metadata": {},
   "source": [
    "2. The syntax for defining a lambda function is lambda arguments: expression."
   ]
  },
  {
   "cell_type": "code",
   "execution_count": 12,
   "id": "1a817eee",
   "metadata": {},
   "outputs": [
    {
     "name": "stdout",
     "output_type": "stream",
     "text": [
      "5\n"
     ]
    }
   ],
   "source": [
    "add = lambda x, y: x + y\n",
    "print(add(2, 3))"
   ]
  },
  {
   "cell_type": "markdown",
   "id": "afe7ed61",
   "metadata": {},
   "source": [
    "3. The arguments are a comma-separated list of arguments that the function can take."
   ]
  },
  {
   "cell_type": "code",
   "execution_count": 13,
   "id": "24000168",
   "metadata": {},
   "outputs": [
    {
     "name": "stdout",
     "output_type": "stream",
     "text": [
      "helloworld!\n"
     ]
    }
   ],
   "source": [
    "concat = lambda a, b, c: a + b + c\n",
    "print(concat('hello', 'world', '!'))"
   ]
  },
  {
   "cell_type": "markdown",
   "id": "3a09582c",
   "metadata": {},
   "source": [
    "4. The expression is a single expression that is executed when the function is called, and the result of the expression is returned as the result of the function."
   ]
  },
  {
   "cell_type": "code",
   "execution_count": 14,
   "id": "a7d1b568",
   "metadata": {},
   "outputs": [
    {
     "name": "stdout",
     "output_type": "stream",
     "text": [
      "True\n"
     ]
    }
   ],
   "source": [
    "is_even = lambda x: x % 2 == 0\n",
    "print(is_even(4)) "
   ]
  },
  {
   "cell_type": "markdown",
   "id": "c467f937",
   "metadata": {},
   "source": [
    "5. Lambda functions are often used for short, one-off functions that do not need to be defined with a separate def statement."
   ]
  },
  {
   "cell_type": "code",
   "execution_count": 15,
   "id": "b687340e",
   "metadata": {},
   "outputs": [
    {
     "name": "stdout",
     "output_type": "stream",
     "text": [
      "[0, 2, 4, 6, 8]\n"
     ]
    }
   ],
   "source": [
    "evens = list(filter(lambda x: x % 2 == 0, range(10)))\n",
    "print(evens)  "
   ]
  },
  {
   "cell_type": "markdown",
   "id": "f4fd1685",
   "metadata": {},
   "source": [
    "6. Lambda functions can take any number of arguments but can only have one expression."
   ]
  },
  {
   "cell_type": "code",
   "execution_count": 16,
   "id": "c5ba45be",
   "metadata": {},
   "outputs": [
    {
     "name": "stdout",
     "output_type": "stream",
     "text": [
      "John Doe\n"
     ]
    }
   ],
   "source": [
    "full_name = lambda first, last: f'{first.title()} {last.title()}'\n",
    "print(full_name('john', 'doe')) "
   ]
  },
  {
   "cell_type": "markdown",
   "id": "dab24adc",
   "metadata": {},
   "source": [
    "7. Lambda functions are often used in conjunction with other Python functions like map(), filter(), and reduce()"
   ]
  },
  {
   "cell_type": "code",
   "execution_count": 18,
   "id": "a92975a9",
   "metadata": {},
   "outputs": [
    {
     "name": "stdout",
     "output_type": "stream",
     "text": [
      "[1, 4, 9, 16, 25]\n",
      "[2, 4]\n",
      "15\n"
     ]
    }
   ],
   "source": [
    "from functools import reduce\n",
    "nums = [1, 2, 3, 4, 5]\n",
    "squares = list(map(lambda x: x ** 2, nums))\n",
    "evens = list(filter(lambda x: x % 2 == 0, nums))\n",
    "sum = reduce(lambda x, y: x + y, nums)\n",
    "print(squares)  # Output: [1, 4, 9, 16, 25]\n",
    "print(evens)  # Output: [2, 4]\n",
    "print(sum)  # Output: 15"
   ]
  },
  {
   "cell_type": "markdown",
   "id": "3b4fad28",
   "metadata": {},
   "source": [
    "8. Lambda functions can be used to create closures, which are functions that remember the values of the variables in the enclosing scope even when they are executed in a different scope."
   ]
  },
  {
   "cell_type": "code",
   "execution_count": 19,
   "id": "749b424a",
   "metadata": {},
   "outputs": [
    {
     "name": "stdout",
     "output_type": "stream",
     "text": [
      "15\n"
     ]
    }
   ],
   "source": [
    "def make_adder(n):\n",
    "    return lambda x: x + n\n",
    "\n",
    "add_5 = make_adder(5)\n",
    "result = add_5(10)  # result is 15\n",
    "print(result)  # Output: 15"
   ]
  },
  {
   "cell_type": "markdown",
   "id": "815ddb63",
   "metadata": {},
   "source": [
    "9. Lambda functions are generally less readable than named functions and should be used sparingly to avoid making the code harder to understand."
   ]
  },
  {
   "cell_type": "raw",
   "id": "57195132",
   "metadata": {},
   "source": [
    "# Less readable\n",
    "result = list(filter(lambda x: x % 2 == 0, nums))\n",
    "\n",
    "# More readable\n",
    "def is_even(x):\n",
    "    return x % 2 == 0\n",
    "\n",
    "result = list(filter(is_even, nums))"
   ]
  }
 ],
 "metadata": {
  "kernelspec": {
   "display_name": "Python 3 (ipykernel)",
   "language": "python",
   "name": "python3"
  },
  "language_info": {
   "codemirror_mode": {
    "name": "ipython",
    "version": 3
   },
   "file_extension": ".py",
   "mimetype": "text/x-python",
   "name": "python",
   "nbconvert_exporter": "python",
   "pygments_lexer": "ipython3",
   "version": "3.9.7"
  }
 },
 "nbformat": 4,
 "nbformat_minor": 5
}
